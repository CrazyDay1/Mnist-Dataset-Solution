{
 "cells": [
  {
   "cell_type": "code",
   "execution_count": 17,
   "id": "c5164ae7",
   "metadata": {},
   "outputs": [],
   "source": [
    "# Import the mnist dataset from the keras dataset library\n",
    "from keras.datasets import mnist"
   ]
  },
  {
   "cell_type": "code",
   "execution_count": 18,
   "id": "2145c35d",
   "metadata": {},
   "outputs": [],
   "source": [
    "# Call the dataset and split it into train and test for our model \n",
    "# Train functions to train the data \n",
    "# Test functions to test the data (whether the training is good, exp did overtraining/ undertraining occur)\n",
    "(train_images, train_labels), (test_images, test_labels) = mnist.load_data()"
   ]
  },
  {
   "cell_type": "code",
   "execution_count": 19,
   "id": "51759df6",
   "metadata": {},
   "outputs": [],
   "source": [
    "from keras import models # to call the sequential model \n",
    "from keras import layers # to add layers to the sequential model (to capture features)\n",
    "\n",
    "network = models.Sequential()\n",
    "network.add(layers.Dense(512, activation = 'relu', input_shape = (28 * 28, )))\n",
    "network.add(layers.Dense(10, activation = 'softmax')) # transforms the output from prevoius layers to a format we can use \n"
   ]
  },
  {
   "cell_type": "code",
   "execution_count": 20,
   "id": "fca4e618",
   "metadata": {},
   "outputs": [],
   "source": [
    "network.compile(optimizer = 'rmsprop', loss = 'categorical_crossentropy', metrics = ['accuracy'])"
   ]
  },
  {
   "cell_type": "code",
   "execution_count": 21,
   "id": "2d10e488",
   "metadata": {},
   "outputs": [],
   "source": [
    "# preprocessing the training image \n",
    "train_images = train_images.reshape((60000, 28 * 28)) \n",
    "# preprocess the image into 28 * 28 to chage it to 1d array\n",
    "# the output will consist of a array with 60000 row and 28 * 28 column\n",
    "train_images = train_images.astype('float32') / 255\n",
    "# reduce the number range for each point, to ease calculations later \n",
    "\n",
    "# preprocessing the testing image\n",
    "test_images = test_images.reshape((10000, 28 * 28))\n",
    "test_images = test_images.astype('float32') / 255"
   ]
  },
  {
   "cell_type": "code",
   "execution_count": 22,
   "id": "65f06ac6",
   "metadata": {},
   "outputs": [],
   "source": [
    "from keras.utils import to_categorical \n",
    "\n",
    "# converts the label into binary vector \n",
    "train_labels = to_categorical(train_labels)\n",
    "test_labels = to_categorical(test_labels)"
   ]
  },
  {
   "cell_type": "code",
   "execution_count": 25,
   "id": "10e8f1b7",
   "metadata": {},
   "outputs": [
    {
     "name": "stdout",
     "output_type": "stream",
     "text": [
      "Epoch 1/6\n",
      "469/469 [==============================] - 2s 5ms/step - loss: 0.0289 - accuracy: 0.9917\n",
      "Epoch 2/6\n",
      "469/469 [==============================] - 2s 5ms/step - loss: 0.0219 - accuracy: 0.9934\n",
      "Epoch 3/6\n",
      "469/469 [==============================] - 2s 5ms/step - loss: 0.0160 - accuracy: 0.9957\n",
      "Epoch 4/6\n",
      "469/469 [==============================] - 2s 5ms/step - loss: 0.0129 - accuracy: 0.9967\n",
      "Epoch 5/6\n",
      "469/469 [==============================] - 2s 5ms/step - loss: 0.0091 - accuracy: 0.9978\n",
      "Epoch 6/6\n",
      "469/469 [==============================] - 2s 5ms/step - loss: 0.0069 - accuracy: 0.9984\n"
     ]
    },
    {
     "data": {
      "text/plain": [
       "<keras.callbacks.History at 0x262368b8e90>"
      ]
     },
     "execution_count": 25,
     "metadata": {},
     "output_type": "execute_result"
    }
   ],
   "source": [
    "# training the model \n",
    "\n",
    "network.fit(train_images, train_labels, epochs = 5, batch_size = 128)"
   ]
  },
  {
   "cell_type": "code",
   "execution_count": 26,
   "id": "e9b410d5",
   "metadata": {},
   "outputs": [
    {
     "name": "stdout",
     "output_type": "stream",
     "text": [
      "313/313 [==============================] - 0s 2ms/step - loss: 0.0646 - accuracy: 0.9816\n",
      "Test loss: 0.06458932906389236\n",
      "Test accuracy: 98.15999865531921\n"
     ]
    }
   ],
   "source": [
    "# test on the model on the test data \n",
    "\n",
    "test_loss, test_acc = network.evaluate(test_images, test_labels)\n",
    "print(f'Test loss: {test_loss}\\nTest accuracy: {test_acc * 100}')"
   ]
  },
  {
   "cell_type": "code",
   "execution_count": null,
   "id": "77215695",
   "metadata": {},
   "outputs": [],
   "source": []
  }
 ],
 "metadata": {
  "kernelspec": {
   "display_name": "Python 3 (ipykernel)",
   "language": "python",
   "name": "python3"
  },
  "language_info": {
   "codemirror_mode": {
    "name": "ipython",
    "version": 3
   },
   "file_extension": ".py",
   "mimetype": "text/x-python",
   "name": "python",
   "nbconvert_exporter": "python",
   "pygments_lexer": "ipython3",
   "version": "3.11.0"
  }
 },
 "nbformat": 4,
 "nbformat_minor": 5
}
